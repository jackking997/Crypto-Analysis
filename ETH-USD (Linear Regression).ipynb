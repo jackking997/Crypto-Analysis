{
 "cells": [
  {
   "cell_type": "markdown",
   "metadata": {},
   "source": [
    "# ETH price prediction by using linear regression "
   ]
  },
  {
   "cell_type": "code",
   "execution_count": 1,
   "metadata": {},
   "outputs": [],
   "source": [
    "import pandas as pd\n",
    "import numpy as np\n",
    "from sklearn.linear_model import LinearRegression\n",
    "from sklearn.model_selection import train_test_split"
   ]
  },
  {
   "cell_type": "code",
   "execution_count": 2,
   "metadata": {},
   "outputs": [],
   "source": [
    "# load the data \n",
    "df = pd.read_csv('ETH-USD.csv')"
   ]
  },
  {
   "cell_type": "code",
   "execution_count": 3,
   "metadata": {},
   "outputs": [],
   "source": [
    "# Predict a weeks later\n",
    "projection = 7\n",
    "df['Prediction'] = df[['Close']].shift(- projection)"
   ]
  },
  {
   "cell_type": "code",
   "execution_count": 4,
   "metadata": {},
   "outputs": [
    {
     "data": {
      "text/html": [
       "<div>\n",
       "<style scoped>\n",
       "    .dataframe tbody tr th:only-of-type {\n",
       "        vertical-align: middle;\n",
       "    }\n",
       "\n",
       "    .dataframe tbody tr th {\n",
       "        vertical-align: top;\n",
       "    }\n",
       "\n",
       "    .dataframe thead th {\n",
       "        text-align: right;\n",
       "    }\n",
       "</style>\n",
       "<table border=\"1\" class=\"dataframe\">\n",
       "  <thead>\n",
       "    <tr style=\"text-align: right;\">\n",
       "      <th></th>\n",
       "      <th>Date</th>\n",
       "      <th>Open</th>\n",
       "      <th>High</th>\n",
       "      <th>Low</th>\n",
       "      <th>Close</th>\n",
       "      <th>Adj Close</th>\n",
       "      <th>Volume</th>\n",
       "      <th>Prediction</th>\n",
       "    </tr>\n",
       "  </thead>\n",
       "  <tbody>\n",
       "    <tr>\n",
       "      <td>0</td>\n",
       "      <td>2019-01-01</td>\n",
       "      <td>133.418152</td>\n",
       "      <td>141.397507</td>\n",
       "      <td>132.650711</td>\n",
       "      <td>140.819412</td>\n",
       "      <td>140.819412</td>\n",
       "      <td>2258709868</td>\n",
       "      <td>150.359634</td>\n",
       "    </tr>\n",
       "    <tr>\n",
       "      <td>1</td>\n",
       "      <td>2019-01-02</td>\n",
       "      <td>141.519516</td>\n",
       "      <td>156.929138</td>\n",
       "      <td>140.650955</td>\n",
       "      <td>155.047684</td>\n",
       "      <td>155.047684</td>\n",
       "      <td>3328240369</td>\n",
       "      <td>150.803116</td>\n",
       "    </tr>\n",
       "    <tr>\n",
       "      <td>2</td>\n",
       "      <td>2019-01-03</td>\n",
       "      <td>155.196045</td>\n",
       "      <td>155.863052</td>\n",
       "      <td>147.198364</td>\n",
       "      <td>149.135010</td>\n",
       "      <td>149.135010</td>\n",
       "      <td>2676164880</td>\n",
       "      <td>128.625183</td>\n",
       "    </tr>\n",
       "    <tr>\n",
       "      <td>3</td>\n",
       "      <td>2019-01-04</td>\n",
       "      <td>148.912888</td>\n",
       "      <td>156.878983</td>\n",
       "      <td>147.907104</td>\n",
       "      <td>154.581940</td>\n",
       "      <td>154.581940</td>\n",
       "      <td>3126192535</td>\n",
       "      <td>127.548325</td>\n",
       "    </tr>\n",
       "    <tr>\n",
       "      <td>4</td>\n",
       "      <td>2019-01-05</td>\n",
       "      <td>154.337418</td>\n",
       "      <td>160.824890</td>\n",
       "      <td>154.337418</td>\n",
       "      <td>155.638596</td>\n",
       "      <td>155.638596</td>\n",
       "      <td>3338211928</td>\n",
       "      <td>125.966530</td>\n",
       "    </tr>\n",
       "    <tr>\n",
       "      <td>...</td>\n",
       "      <td>...</td>\n",
       "      <td>...</td>\n",
       "      <td>...</td>\n",
       "      <td>...</td>\n",
       "      <td>...</td>\n",
       "      <td>...</td>\n",
       "      <td>...</td>\n",
       "      <td>...</td>\n",
       "    </tr>\n",
       "    <tr>\n",
       "      <td>1165</td>\n",
       "      <td>2022-03-11</td>\n",
       "      <td>2608.271240</td>\n",
       "      <td>2664.558594</td>\n",
       "      <td>2534.688232</td>\n",
       "      <td>2559.562988</td>\n",
       "      <td>2559.562988</td>\n",
       "      <td>12382419582</td>\n",
       "      <td>2945.343018</td>\n",
       "    </tr>\n",
       "    <tr>\n",
       "      <td>1166</td>\n",
       "      <td>2022-03-12</td>\n",
       "      <td>2559.660645</td>\n",
       "      <td>2606.438721</td>\n",
       "      <td>2559.126953</td>\n",
       "      <td>2574.754150</td>\n",
       "      <td>2574.754150</td>\n",
       "      <td>6532996574</td>\n",
       "      <td>2946.257080</td>\n",
       "    </tr>\n",
       "    <tr>\n",
       "      <td>1167</td>\n",
       "      <td>2022-03-13</td>\n",
       "      <td>2573.488037</td>\n",
       "      <td>2594.549805</td>\n",
       "      <td>2503.885254</td>\n",
       "      <td>2518.944580</td>\n",
       "      <td>2518.944580</td>\n",
       "      <td>8632000379</td>\n",
       "      <td>2860.459229</td>\n",
       "    </tr>\n",
       "    <tr>\n",
       "      <td>1168</td>\n",
       "      <td>2022-03-14</td>\n",
       "      <td>2518.486328</td>\n",
       "      <td>2604.034424</td>\n",
       "      <td>2505.299316</td>\n",
       "      <td>2590.696045</td>\n",
       "      <td>2590.696045</td>\n",
       "      <td>11244398839</td>\n",
       "      <td>2897.976563</td>\n",
       "    </tr>\n",
       "    <tr>\n",
       "      <td>1169</td>\n",
       "      <td>2022-03-15</td>\n",
       "      <td>2590.668945</td>\n",
       "      <td>2662.329590</td>\n",
       "      <td>2515.765869</td>\n",
       "      <td>2620.149658</td>\n",
       "      <td>2620.149658</td>\n",
       "      <td>12861105614</td>\n",
       "      <td>2973.131104</td>\n",
       "    </tr>\n",
       "  </tbody>\n",
       "</table>\n",
       "<p>1170 rows × 8 columns</p>\n",
       "</div>"
      ],
      "text/plain": [
       "            Date         Open         High          Low        Close  \\\n",
       "0     2019-01-01   133.418152   141.397507   132.650711   140.819412   \n",
       "1     2019-01-02   141.519516   156.929138   140.650955   155.047684   \n",
       "2     2019-01-03   155.196045   155.863052   147.198364   149.135010   \n",
       "3     2019-01-04   148.912888   156.878983   147.907104   154.581940   \n",
       "4     2019-01-05   154.337418   160.824890   154.337418   155.638596   \n",
       "...          ...          ...          ...          ...          ...   \n",
       "1165  2022-03-11  2608.271240  2664.558594  2534.688232  2559.562988   \n",
       "1166  2022-03-12  2559.660645  2606.438721  2559.126953  2574.754150   \n",
       "1167  2022-03-13  2573.488037  2594.549805  2503.885254  2518.944580   \n",
       "1168  2022-03-14  2518.486328  2604.034424  2505.299316  2590.696045   \n",
       "1169  2022-03-15  2590.668945  2662.329590  2515.765869  2620.149658   \n",
       "\n",
       "        Adj Close       Volume   Prediction  \n",
       "0      140.819412   2258709868   150.359634  \n",
       "1      155.047684   3328240369   150.803116  \n",
       "2      149.135010   2676164880   128.625183  \n",
       "3      154.581940   3126192535   127.548325  \n",
       "4      155.638596   3338211928   125.966530  \n",
       "...           ...          ...          ...  \n",
       "1165  2559.562988  12382419582  2945.343018  \n",
       "1166  2574.754150   6532996574  2946.257080  \n",
       "1167  2518.944580   8632000379  2860.459229  \n",
       "1168  2590.696045  11244398839  2897.976563  \n",
       "1169  2620.149658  12861105614  2973.131104  \n",
       "\n",
       "[1170 rows x 8 columns]"
      ]
     },
     "execution_count": 4,
     "metadata": {},
     "output_type": "execute_result"
    }
   ],
   "source": [
    "df.head(-10)"
   ]
  },
  {
   "cell_type": "code",
   "execution_count": 5,
   "metadata": {},
   "outputs": [],
   "source": [
    "X = np.array(df[['Close']])\n",
    "X = X[:-projection]"
   ]
  },
  {
   "cell_type": "code",
   "execution_count": 6,
   "metadata": {},
   "outputs": [],
   "source": [
    "y = df['Prediction'].values\n",
    "y = y[:-projection]"
   ]
  },
  {
   "cell_type": "code",
   "execution_count": 7,
   "metadata": {},
   "outputs": [],
   "source": [
    "# Split the data into 80% for training and 20% for testing\n",
    "\n",
    "X_train, X_test, y_train, y_test = train_test_split(X,y, test_size = .2)"
   ]
  },
  {
   "cell_type": "code",
   "execution_count": 8,
   "metadata": {},
   "outputs": [
    {
     "data": {
      "text/plain": [
       "LinearRegression(copy_X=True, fit_intercept=True, n_jobs=None, normalize=False)"
      ]
     },
     "execution_count": 8,
     "metadata": {},
     "output_type": "execute_result"
    }
   ],
   "source": [
    "# Create and train the model \n",
    "lr = LinearRegression()\n",
    "lr.fit(X_train, y_train)"
   ]
  },
  {
   "cell_type": "code",
   "execution_count": 9,
   "metadata": {},
   "outputs": [
    {
     "name": "stdout",
     "output_type": "stream",
     "text": [
      "0.9709658540880516\n"
     ]
    }
   ],
   "source": [
    "# Test the model \n",
    "lr_con = lr.score(X_test, y_test)\n",
    "print(lr_con)"
   ]
  },
  {
   "cell_type": "code",
   "execution_count": 10,
   "metadata": {},
   "outputs": [
    {
     "name": "stdout",
     "output_type": "stream",
     "text": [
      "[[2946.25708 ]\n",
      " [2860.459229]\n",
      " [2897.976563]\n",
      " [2973.131104]\n",
      " [3031.067139]\n",
      " [3108.062012]\n",
      " [3124.769287]]\n"
     ]
    }
   ],
   "source": [
    "x_projection = np.array(df[['Close']])[-projection:]\n",
    "print(x_projection)"
   ]
  },
  {
   "cell_type": "code",
   "execution_count": 11,
   "metadata": {},
   "outputs": [
    {
     "name": "stdout",
     "output_type": "stream",
     "text": [
      "[2936.0112711  2851.34077377 2888.36514316 2962.53217985 3019.70695567\n",
      " 3095.69014304 3112.17789031]\n"
     ]
    }
   ],
   "source": [
    "lr.prediction = lr.predict(x_projection)\n",
    "print(lr.prediction)"
   ]
  },
  {
   "cell_type": "code",
   "execution_count": null,
   "metadata": {},
   "outputs": [],
   "source": []
  }
 ],
 "metadata": {
  "kernelspec": {
   "display_name": "Python 3",
   "language": "python",
   "name": "python3"
  },
  "language_info": {
   "codemirror_mode": {
    "name": "ipython",
    "version": 3
   },
   "file_extension": ".py",
   "mimetype": "text/x-python",
   "name": "python",
   "nbconvert_exporter": "python",
   "pygments_lexer": "ipython3",
   "version": "3.7.4"
  }
 },
 "nbformat": 4,
 "nbformat_minor": 2
}
